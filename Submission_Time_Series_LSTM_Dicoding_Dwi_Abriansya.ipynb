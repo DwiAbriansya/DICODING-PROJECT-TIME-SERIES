{
  "nbformat": 4,
  "nbformat_minor": 0,
  "metadata": {
    "colab": {
      "name": "Submission Time Series LSTM Dicoding - Dwi Abriansya.ipynb",
      "provenance": [],
      "collapsed_sections": []
    },
    "kernelspec": {
      "name": "python3",
      "display_name": "Python 3"
    },
    "language_info": {
      "name": "python"
    },
    "accelerator": "GPU"
  },
  "cells": [
    {
      "cell_type": "markdown",
      "metadata": {
        "id": "dKb4pYHEp5Dn"
      },
      "source": [
        "Nama              : Dwi Abriansya Alimuddin\n",
        "\n",
        "No Registrasi FGA : 0182180121-127"
      ]
    },
    {
      "cell_type": "markdown",
      "metadata": {
        "id": "1oh6UbHbp6Pa"
      },
      "source": [
        "# Submission Time Series LSTM Dicoding"
      ]
    },
    {
      "cell_type": "markdown",
      "metadata": {
        "id": "3wjKfiIjp6SA"
      },
      "source": [
        "## Import Modul"
      ]
    },
    {
      "cell_type": "code",
      "metadata": {
        "id": "UQTVFptB-hOr"
      },
      "source": [
        "import numpy as np\n",
        "import pandas as pd\n",
        "from keras.layers import Dense, LSTM\n",
        "import matplotlib.pyplot as plt\n",
        "import tensorflow as tf"
      ],
      "execution_count": 1,
      "outputs": []
    },
    {
      "cell_type": "markdown",
      "metadata": {
        "id": "-JMeVekJqY6D"
      },
      "source": [
        "## Upload dan Read Dataset"
      ]
    },
    {
      "cell_type": "code",
      "metadata": {
        "colab": {
          "resources": {
            "http://localhost:8080/nbextensions/google.colab/files.js": {
              "data": "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",
              "ok": true,
              "headers": [
                [
                  "content-type",
                  "application/javascript"
                ]
              ],
              "status": 200,
              "status_text": ""
            }
          },
          "base_uri": "https://localhost:8080/",
          "height": 72
        },
        "id": "bDecgxne-fhx",
        "outputId": "28c80796-7daf-496c-fe72-5beb36a4674b"
      },
      "source": [
        "# Upload Dataset\n",
        "from google.colab import files\n",
        "uploaded = files.upload()"
      ],
      "execution_count": 2,
      "outputs": [
        {
          "output_type": "display_data",
          "data": {
            "text/html": [
              "\n",
              "     <input type=\"file\" id=\"files-3a46b34f-ef23-41ce-91f8-0a93a0425fe3\" name=\"files[]\" multiple disabled\n",
              "        style=\"border:none\" />\n",
              "     <output id=\"result-3a46b34f-ef23-41ce-91f8-0a93a0425fe3\">\n",
              "      Upload widget is only available when the cell has been executed in the\n",
              "      current browser session. Please rerun this cell to enable.\n",
              "      </output>\n",
              "      <script src=\"/nbextensions/google.colab/files.js\"></script> "
            ],
            "text/plain": [
              "<IPython.core.display.HTML object>"
            ]
          },
          "metadata": {
            "tags": []
          }
        },
        {
          "output_type": "stream",
          "text": [
            "Saving AABA_2006-01-01_to_2018-01-01.csv to AABA_2006-01-01_to_2018-01-01.csv\n"
          ],
          "name": "stdout"
        }
      ]
    },
    {
      "cell_type": "code",
      "metadata": {
        "colab": {
          "base_uri": "https://localhost:8080/",
          "height": 204
        },
        "id": "7fvJf164-hQ-",
        "outputId": "1d245b1e-d834-4633-efa0-1d51b1025938"
      },
      "source": [
        "# Read Dataset\n",
        "df = pd.read_csv('AABA_2006-01-01_to_2018-01-01.csv')\n",
        "df.head()"
      ],
      "execution_count": 3,
      "outputs": [
        {
          "output_type": "execute_result",
          "data": {
            "text/html": [
              "<div>\n",
              "<style scoped>\n",
              "    .dataframe tbody tr th:only-of-type {\n",
              "        vertical-align: middle;\n",
              "    }\n",
              "\n",
              "    .dataframe tbody tr th {\n",
              "        vertical-align: top;\n",
              "    }\n",
              "\n",
              "    .dataframe thead th {\n",
              "        text-align: right;\n",
              "    }\n",
              "</style>\n",
              "<table border=\"1\" class=\"dataframe\">\n",
              "  <thead>\n",
              "    <tr style=\"text-align: right;\">\n",
              "      <th></th>\n",
              "      <th>Date</th>\n",
              "      <th>Open</th>\n",
              "      <th>High</th>\n",
              "      <th>Low</th>\n",
              "      <th>Close</th>\n",
              "      <th>Volume</th>\n",
              "      <th>Name</th>\n",
              "    </tr>\n",
              "  </thead>\n",
              "  <tbody>\n",
              "    <tr>\n",
              "      <th>0</th>\n",
              "      <td>2006-01-03</td>\n",
              "      <td>39.69</td>\n",
              "      <td>41.22</td>\n",
              "      <td>38.79</td>\n",
              "      <td>40.91</td>\n",
              "      <td>24232729</td>\n",
              "      <td>AABA</td>\n",
              "    </tr>\n",
              "    <tr>\n",
              "      <th>1</th>\n",
              "      <td>2006-01-04</td>\n",
              "      <td>41.22</td>\n",
              "      <td>41.90</td>\n",
              "      <td>40.77</td>\n",
              "      <td>40.97</td>\n",
              "      <td>20553479</td>\n",
              "      <td>AABA</td>\n",
              "    </tr>\n",
              "    <tr>\n",
              "      <th>2</th>\n",
              "      <td>2006-01-05</td>\n",
              "      <td>40.93</td>\n",
              "      <td>41.73</td>\n",
              "      <td>40.85</td>\n",
              "      <td>41.53</td>\n",
              "      <td>12829610</td>\n",
              "      <td>AABA</td>\n",
              "    </tr>\n",
              "    <tr>\n",
              "      <th>3</th>\n",
              "      <td>2006-01-06</td>\n",
              "      <td>42.88</td>\n",
              "      <td>43.57</td>\n",
              "      <td>42.80</td>\n",
              "      <td>43.21</td>\n",
              "      <td>29422828</td>\n",
              "      <td>AABA</td>\n",
              "    </tr>\n",
              "    <tr>\n",
              "      <th>4</th>\n",
              "      <td>2006-01-09</td>\n",
              "      <td>43.10</td>\n",
              "      <td>43.66</td>\n",
              "      <td>42.82</td>\n",
              "      <td>43.42</td>\n",
              "      <td>16268338</td>\n",
              "      <td>AABA</td>\n",
              "    </tr>\n",
              "  </tbody>\n",
              "</table>\n",
              "</div>"
            ],
            "text/plain": [
              "         Date   Open   High    Low  Close    Volume  Name\n",
              "0  2006-01-03  39.69  41.22  38.79  40.91  24232729  AABA\n",
              "1  2006-01-04  41.22  41.90  40.77  40.97  20553479  AABA\n",
              "2  2006-01-05  40.93  41.73  40.85  41.53  12829610  AABA\n",
              "3  2006-01-06  42.88  43.57  42.80  43.21  29422828  AABA\n",
              "4  2006-01-09  43.10  43.66  42.82  43.42  16268338  AABA"
            ]
          },
          "metadata": {
            "tags": []
          },
          "execution_count": 3
        }
      ]
    },
    {
      "cell_type": "markdown",
      "metadata": {
        "id": "PNcXMkT1qsY6"
      },
      "source": [
        "## Data Preprocessing"
      ]
    },
    {
      "cell_type": "code",
      "metadata": {
        "colab": {
          "base_uri": "https://localhost:8080/"
        },
        "id": "dLsw4rl_lbLv",
        "outputId": "461a02af-3447-4d0c-addf-6d90f659989c"
      },
      "source": [
        "df.info()"
      ],
      "execution_count": 4,
      "outputs": [
        {
          "output_type": "stream",
          "text": [
            "<class 'pandas.core.frame.DataFrame'>\n",
            "RangeIndex: 3019 entries, 0 to 3018\n",
            "Data columns (total 7 columns):\n",
            " #   Column  Non-Null Count  Dtype  \n",
            "---  ------  --------------  -----  \n",
            " 0   Date    3019 non-null   object \n",
            " 1   Open    3019 non-null   float64\n",
            " 2   High    3019 non-null   float64\n",
            " 3   Low     3019 non-null   float64\n",
            " 4   Close   3019 non-null   float64\n",
            " 5   Volume  3019 non-null   int64  \n",
            " 6   Name    3019 non-null   object \n",
            "dtypes: float64(4), int64(1), object(2)\n",
            "memory usage: 165.2+ KB\n"
          ],
          "name": "stdout"
        }
      ]
    },
    {
      "cell_type": "code",
      "metadata": {
        "colab": {
          "base_uri": "https://localhost:8080/"
        },
        "id": "UNpSunoB-hTv",
        "outputId": "3e370777-86aa-4755-c9ee-3413fa03f691"
      },
      "source": [
        "# Missing Value\n",
        "df.isnull().sum()"
      ],
      "execution_count": 5,
      "outputs": [
        {
          "output_type": "execute_result",
          "data": {
            "text/plain": [
              "Date      0\n",
              "Open      0\n",
              "High      0\n",
              "Low       0\n",
              "Close     0\n",
              "Volume    0\n",
              "Name      0\n",
              "dtype: int64"
            ]
          },
          "metadata": {
            "tags": []
          },
          "execution_count": 5
        }
      ]
    },
    {
      "cell_type": "markdown",
      "metadata": {
        "id": "K_UR1F18q-03"
      },
      "source": [
        "## Data Visualization"
      ]
    },
    {
      "cell_type": "code",
      "metadata": {
        "colab": {
          "base_uri": "https://localhost:8080/",
          "height": 612
        },
        "id": "t2_dDJXN-hWe",
        "outputId": "7b7080c1-05ff-44af-8a18-8dfc670072a6"
      },
      "source": [
        "# Ekstrak data tanggal dan open\n",
        "dates = df['Date'].values\n",
        "open = df['Open'].values\n",
        " \n",
        "# Plot data tanggal dan open\n",
        "plt.figure(figsize=(20,10))\n",
        "plt.plot(dates, open)\n",
        "plt.title('AABA Open Values',\n",
        "          fontsize=20);"
      ],
      "execution_count": 6,
      "outputs": [
        {
          "output_type": "display_data",
          "data": {
            "image/png": "[encoded data removed]",
            "text/plain": [
              "<Figure size 1440x720 with 1 Axes>"
            ]
          },
          "metadata": {
            "tags": [],
            "needs_background": "light"
          }
        }
      ]
    },
    {
      "cell_type": "markdown",
      "metadata": {
        "id": "_WueL_IQrBrv"
      },
      "source": [
        "## Train Test Split"
      ]
    },
    {
      "cell_type": "markdown",
      "metadata": {
        "id": "YYmU7IGtrbDj"
      },
      "source": [
        "### Split Data"
      ]
    },
    {
      "cell_type": "code",
      "metadata": {
        "id": "HuOGraWtT9th"
      },
      "source": [
        "# Split Data Train dan Test dengan Rasio 80:20, Shuffle=False agar split data tidak random\n",
        "from sklearn.model_selection import train_test_split\n",
        "date_latih, date_test, open_latih, open_test = train_test_split(dates, open, test_size=0.2, shuffle=False)"
      ],
      "execution_count": 7,
      "outputs": []
    },
    {
      "cell_type": "markdown",
      "metadata": {
        "id": "eZZu3ILaroba"
      },
      "source": [
        "### Persiapan Train dan Test Set"
      ]
    },
    {
      "cell_type": "code",
      "metadata": {
        "id": "eBcRf5vv-hY7"
      },
      "source": [
        "# Inisiasi Fungsi windowed dataset\n",
        "def windowed_dataset(series, window_size, batch_size, shuffle_buffer):\n",
        "    series = tf.expand_dims(series, axis=-1)\n",
        "    ds = tf.data.Dataset.from_tensor_slices(series)\n",
        "    ds = ds.window(window_size + 1, shift=1, drop_remainder=True)\n",
        "    ds = ds.flat_map(lambda w: w.batch(window_size + 1))\n",
        "    ds = ds.shuffle(shuffle_buffer)\n",
        "    ds = ds.map(lambda w: (w[:-1], w[-1:]))\n",
        "    return ds.batch(batch_size).prefetch(1)"
      ],
      "execution_count": 8,
      "outputs": []
    },
    {
      "cell_type": "code",
      "metadata": {
        "id": "f019SjyArZn3"
      },
      "source": [
        "# Memanggil fungsi windowed dataset\n",
        "train_set = windowed_dataset(open_latih, window_size=60, batch_size=100, shuffle_buffer=1000)\n",
        "test_set = windowed_dataset(open_test, window_size=60, batch_size=100, shuffle_buffer=1000)"
      ],
      "execution_count": 9,
      "outputs": []
    },
    {
      "cell_type": "markdown",
      "metadata": {
        "id": "B3RL0OEkr5O9"
      },
      "source": [
        "## Arsitektur Model"
      ]
    },
    {
      "cell_type": "code",
      "metadata": {
        "id": "Ow0KdpEq-hbW"
      },
      "source": [
        "# Arsitektur Model\n",
        "model = tf.keras.models.Sequential([\n",
        "  # LSTM layer 1\n",
        "  tf.keras.layers.LSTM(60, return_sequences=True),\n",
        "  # LSTM layer 2\n",
        "  tf.keras.layers.LSTM(60),\n",
        "  # Hidden Layer 1\n",
        "  tf.keras.layers.Dense(30, activation=\"relu\"),\n",
        "  # Hidden Layer 2\n",
        "  tf.keras.layers.Dense(10, activation=\"relu\"),\n",
        "  # Output Layer\n",
        "  tf.keras.layers.Dense(1),\n",
        "])"
      ],
      "execution_count": 10,
      "outputs": []
    },
    {
      "cell_type": "markdown",
      "metadata": {
        "id": "EI-W8kbarKWt"
      },
      "source": [
        "## Threshold dan Callback"
      ]
    },
    {
      "cell_type": "markdown",
      "metadata": {
        "id": "ODa_22PHrOj6"
      },
      "source": [
        "### Penentuan Threshold"
      ]
    },
    {
      "cell_type": "code",
      "metadata": {
        "colab": {
          "base_uri": "https://localhost:8080/"
        },
        "id": "ykxu6zetKwY4",
        "outputId": "942e0c0b-67cb-47ae-e709-88df0e5da5ee"
      },
      "source": [
        "# Skala Data\n",
        "skala = np.max(df['Open'])-np.min(df['Open'])\n",
        "\n",
        "# Threshold MAE\n",
        "threshold = skala*0.1\n",
        "threshold"
      ],
      "execution_count": 11,
      "outputs": [
        {
          "output_type": "execute_result",
          "data": {
            "text/plain": [
              "6.3919999999999995"
            ]
          },
          "metadata": {
            "tags": []
          },
          "execution_count": 11
        }
      ]
    },
    {
      "cell_type": "markdown",
      "metadata": {
        "id": "vWBeIpdRrRlR"
      },
      "source": [
        "### Inisiasi Fungsi Callback"
      ]
    },
    {
      "cell_type": "code",
      "metadata": {
        "id": "M0x2tZCyLGIq"
      },
      "source": [
        "# Inisiasi fungsi callback dengan syarat akurasi 90%\n",
        "class myCallback(tf.keras.callbacks.Callback):\n",
        "  def on_epoch_end(self, epoch, logs={}):\n",
        "    if (logs.get('mae')<threshold) & (logs.get('val_mae')<threshold):\n",
        "      print('\\nMAE telah mencapai <10%!')\n",
        "      self.model.stop_training = True\n",
        "\n",
        "# Inisiasi class myCallback ke dalam variable callbacks\n",
        "callbacks = myCallback()"
      ],
      "execution_count": 12,
      "outputs": []
    },
    {
      "cell_type": "markdown",
      "metadata": {
        "id": "TcsZ8bogrVfx"
      },
      "source": [
        "## Compile dan Training Model"
      ]
    },
    {
      "cell_type": "code",
      "metadata": {
        "colab": {
          "base_uri": "https://localhost:8080/"
        },
        "id": "7ZCjTCbS-hd1",
        "outputId": "ff1a3ac3-031b-4227-fc58-b664cb2f7ec3"
      },
      "source": [
        "# Compile Model\n",
        "optimizer = tf.keras.optimizers.SGD(learning_rate=1.0000e-04, momentum=0.9)\n",
        "model.compile(\n",
        "    loss=tf.keras.losses.Huber(),\n",
        "    optimizer=optimizer,\n",
        "    metrics=[\"mae\"])\n",
        "\n",
        "# Training Model\n",
        "history = model.fit(\n",
        "    train_set,                  # Data Train\n",
        "    epochs=100,                 # Jumlah Epoch\n",
        "    validation_data=test_set,   # Data Test\n",
        "    callbacks=callbacks,        # Memanggil Fungsi Callback\n",
        "    verbose=1)                  # Menampilkan Hasil Tiap Epoch"
      ],
      "execution_count": 13,
      "outputs": [
        {
          "output_type": "stream",
          "text": [
            "Epoch 1/100\n",
            "24/24 [==============================] - 10s 45ms/step - loss: 23.7471 - mae: 24.2471 - val_loss: 45.4927 - val_mae: 45.9927\n",
            "Epoch 2/100\n",
            "24/24 [==============================] - 1s 20ms/step - loss: 23.4848 - mae: 23.9848 - val_loss: 45.2626 - val_mae: 45.7626\n",
            "Epoch 3/100\n",
            "24/24 [==============================] - 1s 18ms/step - loss: 23.2724 - mae: 23.7724 - val_loss: 45.0970 - val_mae: 45.5970\n",
            "Epoch 4/100\n",
            "24/24 [==============================] - 1s 17ms/step - loss: 23.0972 - mae: 23.5972 - val_loss: 44.9270 - val_mae: 45.4270\n",
            "Epoch 5/100\n",
            "24/24 [==============================] - 1s 17ms/step - loss: 22.9040 - mae: 23.4040 - val_loss: 44.7291 - val_mae: 45.2291\n",
            "Epoch 6/100\n",
            "24/24 [==============================] - 1s 17ms/step - loss: 22.6747 - mae: 23.1747 - val_loss: 44.4776 - val_mae: 44.9776\n",
            "Epoch 7/100\n",
            "24/24 [==============================] - 1s 17ms/step - loss: 22.3877 - mae: 22.8877 - val_loss: 44.1542 - val_mae: 44.6542\n",
            "Epoch 8/100\n",
            "24/24 [==============================] - 1s 17ms/step - loss: 22.0195 - mae: 22.5195 - val_loss: 43.7252 - val_mae: 44.2252\n",
            "Epoch 9/100\n",
            "24/24 [==============================] - 1s 17ms/step - loss: 21.5290 - mae: 22.0290 - val_loss: 43.1440 - val_mae: 43.6440\n",
            "Epoch 10/100\n",
            "24/24 [==============================] - 1s 17ms/step - loss: 20.8315 - mae: 21.3315 - val_loss: 42.2771 - val_mae: 42.7771\n",
            "Epoch 11/100\n",
            "24/24 [==============================] - 1s 18ms/step - loss: 19.8248 - mae: 20.3248 - val_loss: 41.0333 - val_mae: 41.5333\n",
            "Epoch 12/100\n",
            "24/24 [==============================] - 1s 18ms/step - loss: 18.3490 - mae: 18.8490 - val_loss: 39.1935 - val_mae: 39.6935\n",
            "Epoch 13/100\n",
            "24/24 [==============================] - 1s 17ms/step - loss: 16.1122 - mae: 16.6122 - val_loss: 36.3325 - val_mae: 36.8325\n",
            "Epoch 14/100\n",
            "24/24 [==============================] - 1s 18ms/step - loss: 12.4992 - mae: 12.9976 - val_loss: 31.5588 - val_mae: 32.0588\n",
            "Epoch 15/100\n",
            "24/24 [==============================] - 1s 17ms/step - loss: 8.2668 - mae: 8.7402 - val_loss: 26.4384 - val_mae: 26.9384\n",
            "Epoch 16/100\n",
            "24/24 [==============================] - 1s 17ms/step - loss: 7.6294 - mae: 8.1209 - val_loss: 24.6806 - val_mae: 25.1806\n",
            "Epoch 17/100\n",
            "24/24 [==============================] - 1s 18ms/step - loss: 7.5749 - mae: 8.0710 - val_loss: 24.0836 - val_mae: 24.5836\n",
            "Epoch 18/100\n",
            "24/24 [==============================] - 1s 17ms/step - loss: 7.4939 - mae: 7.9900 - val_loss: 23.5740 - val_mae: 24.0740\n",
            "Epoch 19/100\n",
            "24/24 [==============================] - 1s 18ms/step - loss: 7.3848 - mae: 7.8806 - val_loss: 23.6187 - val_mae: 24.1187\n",
            "Epoch 20/100\n",
            "24/24 [==============================] - 1s 19ms/step - loss: 6.9171 - mae: 7.4102 - val_loss: 22.7361 - val_mae: 23.2361\n",
            "Epoch 21/100\n",
            "24/24 [==============================] - 1s 19ms/step - loss: 5.3106 - mae: 5.7833 - val_loss: 20.3736 - val_mae: 20.8736\n",
            "Epoch 22/100\n",
            "24/24 [==============================] - 1s 18ms/step - loss: 3.3162 - mae: 3.7568 - val_loss: 15.7765 - val_mae: 16.2701\n",
            "Epoch 23/100\n",
            "24/24 [==============================] - 1s 17ms/step - loss: 6.5439 - mae: 7.0206 - val_loss: 20.2910 - val_mae: 20.7910\n",
            "Epoch 24/100\n",
            "24/24 [==============================] - 1s 18ms/step - loss: 4.1566 - mae: 4.6221 - val_loss: 17.2950 - val_mae: 17.7948\n",
            "Epoch 25/100\n",
            "24/24 [==============================] - 1s 17ms/step - loss: 2.8509 - mae: 3.3083 - val_loss: 12.4942 - val_mae: 12.9896\n",
            "Epoch 26/100\n",
            "24/24 [==============================] - 1s 19ms/step - loss: 1.2777 - mae: 1.6649 - val_loss: 8.9474 - val_mae: 9.4182\n",
            "Epoch 27/100\n",
            "24/24 [==============================] - 1s 18ms/step - loss: 1.0927 - mae: 1.4721 - val_loss: 8.1364 - val_mae: 8.6055\n",
            "Epoch 28/100\n",
            "24/24 [==============================] - 1s 18ms/step - loss: 0.9283 - mae: 1.3282 - val_loss: 6.9214 - val_mae: 7.3740\n",
            "Epoch 29/100\n",
            "24/24 [==============================] - 1s 18ms/step - loss: 0.7012 - mae: 1.0651 - val_loss: 6.1612 - val_mae: 6.6088\n",
            "Epoch 30/100\n",
            "24/24 [==============================] - 1s 19ms/step - loss: 0.6331 - mae: 0.9938 - val_loss: 5.6368 - val_mae: 6.0806\n",
            "\n",
            "MAE telah mencapai <10%!\n"
          ],
          "name": "stdout"
        }
      ]
    },
    {
      "cell_type": "code",
      "metadata": {
        "colab": {
          "base_uri": "https://localhost:8080/",
          "height": 545
        },
        "id": "iUnJLEUT-hoW",
        "outputId": "db100115-0c67-4356-ef36-8a7fbe48891b"
      },
      "source": [
        "import matplotlib.pyplot as plt\n",
        "\n",
        "# Ekstrak MAE dan loss dari training model\n",
        "mae = history.history['mae']\n",
        "val_mae = history.history['val_mae']\n",
        "loss = history.history['loss']\n",
        "val_loss = history.history['val_loss']\n",
        "\n",
        "epochs = range(1, len(mae) + 1)\n",
        "\n",
        "# Plot MAE training dan validasi\n",
        "plt.plot(epochs, mae, 'bo', label='Training MAE')\n",
        "plt.plot(epochs, val_mae, 'b', label='Validation MAE')\n",
        "plt.title('Training and validation MAE')\n",
        "plt.legend()\n",
        "\n",
        "# Plot loss training dan validasi\n",
        "plt.figure()\n",
        "plt.plot(epochs, loss, 'bo', label='Training loss')\n",
        "plt.plot(epochs, val_loss, 'b', label='Validation loss')\n",
        "plt.title('Training and validation loss')\n",
        "plt.legend()\n",
        "\n",
        "plt.show()"
      ],
      "execution_count": 14,
      "outputs": [
        {
          "output_type": "display_data",
          "data": {
            "image/png": "[encoded data removed]",
            "text/plain": [
              "<Figure size 432x288 with 1 Axes>"
            ]
          },
          "metadata": {
            "tags": [],
            "needs_background": "light"
          }
        },
        {
          "output_type": "display_data",
          "data": {
            "image/png": "[encoded data removed]",
            "text/plain": [
              "<Figure size 432x288 with 1 Axes>"
            ]
          },
          "metadata": {
            "tags": [],
            "needs_background": "light"
          }
        }
      ]
    }
  ]
}